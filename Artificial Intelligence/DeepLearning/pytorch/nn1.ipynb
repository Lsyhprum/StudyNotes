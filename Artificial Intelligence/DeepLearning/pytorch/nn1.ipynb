{
 "nbformat": 4,
 "nbformat_minor": 2,
 "metadata": {
  "language_info": {
   "name": "python",
   "codemirror_mode": {
    "name": "ipython",
    "version": 3
   },
   "version": "3.6.2-final"
  },
  "orig_nbformat": 2,
  "file_extension": ".py",
  "mimetype": "text/x-python",
  "name": "python",
  "npconvert_exporter": "python",
  "pygments_lexer": "ipython3",
  "version": 3,
  "kernelspec": {
   "name": "python36264bit36fc170516d04460ae12d1efa3e0666b",
   "display_name": "Python 3.6.2 64-bit"
  }
 },
 "cells": [
  {
   "cell_type": "code",
   "execution_count": 1,
   "metadata": {},
   "outputs": [],
   "source": [
    "import torch\n",
    "import torch.nn as nn\n",
    "import torch.nn.functional as F"
   ]
  },
  {
   "cell_type": "code",
   "execution_count": 2,
   "metadata": {},
   "outputs": [],
   "source": [
    "class Net(nn.Module):\n",
    "    def __init__(self):                # 定义网络结构 输入数据 1*32*32\n",
    "        super(Net, self).__init__()\n",
    "\n",
    "        self.conv1 = nn.Conv2d(1, 6, 3) # 输入频道 1 输出平道 6 卷积 3*3\n",
    "        self.conv2 = nn.Conv2d(6, 16, 3) # 输入频道 1 输出平道 6 卷积 3*3\n",
    "        self.fc1 = nn.Linear(16*28*28, 512)  # 思考why 28\n",
    "        self.fc2 = nn.Linear(512, 64)  # 输入 512 输出 64\n",
    "        self.fc3 = nn.Linear(64, 2)    # 输入64， 输出2\n",
    "\n",
    "    def forward(self, x):              # 定义数据流向\n",
    "        x = self.conv1(x)\n",
    "        x = F.relu(x)\n",
    "\n",
    "        x = self.conv2(x)\n",
    "        x = F.relu(x)\n",
    "\n",
    "        x = x.view(-1, 16*28*28)\n",
    "        x = self.fc1(x)\n",
    "        x = F.relu(x)\n",
    "\n",
    "        x = self.fc2(x)\n",
    "        x = F.relu(x)\n",
    "\n",
    "        x = self.fc3(x)\n",
    "\n",
    "        return x"
   ]
  },
  {
   "cell_type": "code",
   "execution_count": 3,
   "metadata": {},
   "outputs": [
    {
     "output_type": "stream",
     "name": "stdout",
     "text": "Net(\n  (conv1): Conv2d(1, 6, kernel_size=(3, 3), stride=(1, 1))\n  (conv2): Conv2d(6, 16, kernel_size=(3, 3), stride=(1, 1))\n  (fc1): Linear(in_features=12544, out_features=512, bias=True)\n  (fc2): Linear(in_features=512, out_features=64, bias=True)\n  (fc3): Linear(in_features=64, out_features=2, bias=True)\n)\n"
    }
   ],
   "source": [
    "net = Net()\n",
    "print(net)"
   ]
  },
  {
   "cell_type": "code",
   "execution_count": 4,
   "metadata": {},
   "outputs": [
    {
     "output_type": "stream",
     "name": "stdout",
     "text": "tensor([[[[ 0.3495, -0.1498,  0.0304,  ...,  2.2192, -2.3294,  0.4472],\n          [ 1.9358, -0.7071, -0.7085,  ..., -0.8205, -0.3066, -0.0808],\n          [-0.4260, -1.9908,  1.3662,  ...,  0.3537, -0.8515,  0.8192],\n          ...,\n          [ 0.9590,  0.6818, -0.2893,  ...,  1.0313, -0.6791, -3.2270],\n          [-2.1792, -0.5911, -0.3163,  ..., -0.7925, -1.4020, -0.8182],\n          [ 0.0673,  1.2848,  0.2434,  ..., -0.0869, -0.2345, -0.4654]]]])\ntorch.Size([1, 1, 32, 32])\n"
    }
   ],
   "source": [
    "# 生成随机输入\n",
    "\n",
    "input_data = torch.randn(1, 1, 32, 32)  # 1 - mini batch\n",
    "\n",
    "print(input_data)\n",
    "print(input_data.size())"
   ]
  },
  {
   "cell_type": "code",
   "execution_count": 5,
   "metadata": {},
   "outputs": [
    {
     "output_type": "stream",
     "name": "stdout",
     "text": "tensor([[0.0902, 0.0871]], grad_fn=<AddmmBackward>)\ntorch.Size([1, 2])\n"
    }
   ],
   "source": [
    "# 运行神经网络\n",
    "\n",
    "out = net(input_data)\n",
    "print(out)\n",
    "print(out.size())"
   ]
  },
  {
   "cell_type": "code",
   "execution_count": 6,
   "metadata": {},
   "outputs": [
    {
     "output_type": "stream",
     "name": "stdout",
     "text": "tensor([[-0.5287, -1.5738]])\n"
    }
   ],
   "source": [
    "# 随机生成真实值\n",
    "target = torch.randn(2)\n",
    "target = target.view(1, -1)\n",
    "print(target)"
   ]
  },
  {
   "cell_type": "code",
   "execution_count": 7,
   "metadata": {},
   "outputs": [
    {
     "output_type": "stream",
     "name": "stdout",
     "text": "tensor(1.1399, grad_fn=<L1LossBackward>)\n"
    }
   ],
   "source": [
    "criterion = nn.L1Loss()         # 定义损失函数\n",
    "loss = criterion(out, target)   # 计算损失\n",
    "\n",
    "print(loss)"
   ]
  },
  {
   "cell_type": "code",
   "execution_count": 8,
   "metadata": {},
   "outputs": [],
   "source": [
    "# 反向传递\n",
    "\n",
    "net.zero_grad() # 清零梯度\n",
    "\n",
    "loss.backward()  # 自动计算梯度，反向传递"
   ]
  },
  {
   "cell_type": "code",
   "execution_count": 9,
   "metadata": {},
   "outputs": [],
   "source": [
    "import torch.optim as optim\n",
    "\n",
    "optimizer = optim.SGD(net.parameters(), lr=0.01)      # 权重更新规则\n",
    "optimizer.step()"
   ]
  },
  {
   "cell_type": "code",
   "execution_count": 10,
   "metadata": {},
   "outputs": [
    {
     "output_type": "stream",
     "name": "stdout",
     "text": "tensor([[0.0426, 0.0389]], grad_fn=<AddmmBackward>)\ntorch.Size([1, 2])\n"
    }
   ],
   "source": [
    "out = net(input_data)\n",
    "print(out)\n",
    "print(out.size())"
   ]
  },
  {
   "cell_type": "code",
   "execution_count": 11,
   "metadata": {},
   "outputs": [
    {
     "output_type": "stream",
     "name": "stdout",
     "text": "tensor(1.0920, grad_fn=<L1LossBackward>)\n"
    }
   ],
   "source": [
    "criterion = nn.L1Loss()         # 定义损失函数\n",
    "loss = criterion(out, target)   # 计算损失\n",
    "\n",
    "print(loss)"
   ]
  },
  {
   "cell_type": "code",
   "execution_count": null,
   "metadata": {},
   "outputs": [],
   "source": [
    "# 循环多次"
   ]
  }
 ]
}