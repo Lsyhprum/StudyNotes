{
 "nbformat": 4,
 "nbformat_minor": 2,
 "metadata": {
  "language_info": {
   "name": "python",
   "codemirror_mode": {
    "name": "ipython",
    "version": 3
   },
   "version": "3.6.2-final"
  },
  "orig_nbformat": 2,
  "file_extension": ".py",
  "mimetype": "text/x-python",
  "name": "python",
  "npconvert_exporter": "python",
  "pygments_lexer": "ipython3",
  "version": 3,
  "kernelspec": {
   "name": "python36264bit36fc170516d04460ae12d1efa3e0666b",
   "display_name": "Python 3.6.2 64-bit"
  }
 },
 "cells": [
  {
   "cell_type": "code",
   "execution_count": 35,
   "metadata": {},
   "outputs": [
    {
     "name": "stdout",
     "output_type": "stream",
     "text": "['batches.meta', 'data_batch_1', 'data_batch_2', 'data_batch_3', 'data_batch_4', 'data_batch_5', 'readme.html', 'test_batch']\n"
    }
   ],
   "source": [
    "import pickle\n",
    "import numpy as np\n",
    "import os\n",
    "\n",
    "CIFAR_DIR = \"..\\\\cifar-10-batches-py\"\n",
    "\n",
    "print(os.listdir(CIFAR_DIR))"
   ]
  },
  {
   "cell_type": "code",
   "execution_count": 36,
   "metadata": {},
   "outputs": [
    {
     "name": "stdout",
     "output_type": "stream",
     "text": "<class 'dict'>\ndict_keys([b'batch_label', b'labels', b'data', b'filenames'])\n<class 'bytes'>\n<class 'list'>\n<class 'numpy.ndarray'>\n<class 'list'>\n(10000, 3072)\n[[ 59  43  50 ... 140  84  72]\n [154 126 105 ... 139 142 144]]\n[6, 9]\nb'training batch 1 of 5'\n[b'leptodactylus_pentadactylus_s_000004.png', b'camion_s_000148.png']\n"
    }
   ],
   "source": [
    "with open(os.path.join(CIFAR_DIR, \"data_batch_1\"), 'rb') as f:\n",
    "    data = pickle.load(f, encoding='bytes')\n",
    "    print(type(data))\n",
    "    print(data.keys())\n",
    "    print(type(data[b'batch_label']))\n",
    "    print(type(data[b'labels']))\n",
    "    print(type(data[b'data']))\n",
    "    print(type(data[b'filenames']))\n",
    "\n",
    "    print(data[b'data'].shape)\n",
    "    print(data[b'data'][0:2])\n",
    "    print(data[b'labels'][0:2])\n",
    "    print(data[b'batch_label'])\n",
    "    print(data[b'filenames'][0:2])\n",
    "\n",
    "# 32 * 32 = 1024 1024 * 3 = 3072\n",
    "# RR-GG-BB = 3072"
   ]
  },
  {
   "cell_type": "code",
   "execution_count": 37,
   "metadata": {},
   "outputs": [
    {
     "data": {
      "text/plain": "<matplotlib.image.AxesImage at 0x1b0c4dd2358>"
     },
     "execution_count": 37,
     "metadata": {},
     "output_type": "execute_result"
    },
    {
     "data": {
      "image/png": "[encoded data removed]",
      "image/svg+xml": "<?xml version=\"1.0\" encoding=\"utf-8\" standalone=\"no\"?>\r\n<!DOCTYPE svg PUBLIC \"-//W3C//DTD SVG 1.1//EN\"\r\n  \"http://www.w3.org/Graphics/SVG/1.1/DTD/svg11.dtd\">\r\n<!-- Created with matplotlib (http://matplotlib.org/) -->\r\n<svg height=\"252pt\" version=\"1.1\" viewBox=\"0 0 255 252\" width=\"255pt\" xmlns=\"http://www.w3.org/2000/svg\" xmlns:xlink=\"http://www.w3.org/1999/xlink\">\r\n <defs>\r\n  <style type=\"text/css\">\r\n*{stroke-linecap:butt;stroke-linejoin:round;}\r\n  </style>\r\n </defs>\r\n <g id=\"figure_1\">\r\n  <g id=\"patch_1\">\r\n   <path d=\"M 0 252.018125 \r\nL 255.065 252.018125 \r\nL 255.065 0 \r\nL 0 0 \r\nz\r\n\" style=\"fill:none;\"/>\r\n  </g>\r\n  <g id=\"axes_1\">\r\n   <g id=\"patch_2\">\r\n    <path d=\"M 26.925 228.14 \r\nL 244.365 228.14 \r\nL 244.365 10.7 \r\nL 26.925 10.7 \r\nz\r\n\" style=\"fill:#ffffff;\"/>\r\n   </g>\r\n   <g clip-path=\"url(#p955dbe7c86)\">\r\n    <image height=\"218\" id=\"image2478153216\" transform=\"scale(1 -1)translate(0 -218)\" width=\"218\" x=\"26.925\" xlink:href=\"data:image/png;base64,\r\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\" y=\"-10.14\"/>\r\n   </g>\r\n   <g id=\"matplotlib.axis_1\">\r\n    <g id=\"xtick_1\">\r\n     <g id=\"line2d_1\">\r\n      <defs>\r\n       <path d=\"M 0 0 \r\nL 0 3.5 \r\n\" id=\"meeff789c52\" style=\"stroke:#000000;stroke-width:0.8;\"/>\r\n      </defs>\r\n      <g>\r\n       <use style=\"stroke:#000000;stroke-width:0.8;\" x=\"30.3225\" xlink:href=\"#meeff789c52\" y=\"228.14\"/>\r\n      </g>\r\n     </g>\r\n     <g id=\"text_1\">\r\n      <!-- 0 -->\r\n      <defs>\r\n       <path d=\"M 31.78125 66.40625 \r\nQ 24.171875 66.40625 20.328125 58.90625 \r\nQ 16.5 51.421875 16.5 36.375 \r\nQ 16.5 21.390625 20.328125 13.890625 \r\nQ 24.171875 6.390625 31.78125 6.390625 \r\nQ 39.453125 6.390625 43.28125 13.890625 \r\nQ 47.125 21.390625 47.125 36.375 \r\nQ 47.125 51.421875 43.28125 58.90625 \r\nQ 39.453125 66.40625 31.78125 66.40625 \r\nz\r\nM 31.78125 74.21875 \r\nQ 44.046875 74.21875 50.515625 64.515625 \r\nQ 56.984375 54.828125 56.984375 36.375 \r\nQ 56.984375 17.96875 50.515625 8.265625 \r\nQ 44.046875 -1.421875 31.78125 -1.421875 \r\nQ 19.53125 -1.421875 13.0625 8.265625 \r\nQ 6.59375 17.96875 6.59375 36.375 \r\nQ 6.59375 54.828125 13.0625 64.515625 \r\nQ 19.53125 74.21875 31.78125 74.21875 \r\nz\r\n\" id=\"DejaVuSans-30\"/>\r\n      </defs>\r\n      <g transform=\"translate(27.14125 242.738437)scale(0.1 -0.1)\">\r\n       <use xlink:href=\"#DejaVuSans-30\"/>\r\n      </g>\r\n     </g>\r\n    </g>\r\n    <g id=\"xtick_2\">\r\n     <g id=\"line2d_2\">\r\n      <g>\r\n       <use style=\"stroke:#000000;stroke-width:0.8;\" x=\"64.2975\" xlink:href=\"#meeff789c52\" y=\"228.14\"/>\r\n      </g>\r\n     </g>\r\n     <g id=\"text_2\">\r\n      <!-- 5 -->\r\n      <defs>\r\n       <path d=\"M 10.796875 72.90625 \r\nL 49.515625 72.90625 \r\nL 49.515625 64.59375 \r\nL 19.828125 64.59375 \r\nL 19.828125 46.734375 \r\nQ 21.96875 47.46875 24.109375 47.828125 \r\nQ 26.265625 48.1875 28.421875 48.1875 \r\nQ 40.625 48.1875 47.75 41.5 \r\nQ 54.890625 34.8125 54.890625 23.390625 \r\nQ 54.890625 11.625 47.5625 5.09375 \r\nQ 40.234375 -1.421875 26.90625 -1.421875 \r\nQ 22.3125 -1.421875 17.546875 -0.640625 \r\nQ 12.796875 0.140625 7.71875 1.703125 \r\nL 7.71875 11.625 \r\nQ 12.109375 9.234375 16.796875 8.0625 \r\nQ 21.484375 6.890625 26.703125 6.890625 \r\nQ 35.15625 6.890625 40.078125 11.328125 \r\nQ 45.015625 15.765625 45.015625 23.390625 \r\nQ 45.015625 31 40.078125 35.4375 \r\nQ 35.15625 39.890625 26.703125 39.890625 \r\nQ 22.75 39.890625 18.8125 39.015625 \r\nQ 14.890625 38.140625 10.796875 36.28125 \r\nz\r\n\" id=\"DejaVuSans-35\"/>\r\n      </defs>\r\n      <g transform=\"translate(61.11625 242.738437)scale(0.1 -0.1)\">\r\n       <use xlink:href=\"#DejaVuSans-35\"/>\r\n      </g>\r\n     </g>\r\n    </g>\r\n    <g id=\"xtick_3\">\r\n     <g id=\"line2d_3\">\r\n      <g>\r\n       <use style=\"stroke:#000000;stroke-width:0.8;\" x=\"98.2725\" xlink:href=\"#meeff789c52\" y=\"228.14\"/>\r\n      </g>\r\n     </g>\r\n     <g id=\"text_3\">\r\n      <!-- 10 -->\r\n      <defs>\r\n       <path d=\"M 12.40625 8.296875 \r\nL 28.515625 8.296875 \r\nL 28.515625 63.921875 \r\nL 10.984375 60.40625 \r\nL 10.984375 69.390625 \r\nL 28.421875 72.90625 \r\nL 38.28125 72.90625 \r\nL 38.28125 8.296875 \r\nL 54.390625 8.296875 \r\nL 54.390625 0 \r\nL 12.40625 0 \r\nz\r\n\" id=\"DejaVuSans-31\"/>\r\n      </defs>\r\n      <g transform=\"translate(91.91 242.738437)scale(0.1 -0.1)\">\r\n       <use xlink:href=\"#DejaVuSans-31\"/>\r\n       <use x=\"63.623047\" xlink:href=\"#DejaVuSans-30\"/>\r\n      </g>\r\n     </g>\r\n    </g>\r\n    <g id=\"xtick_4\">\r\n     <g id=\"line2d_4\">\r\n      <g>\r\n       <use style=\"stroke:#000000;stroke-width:0.8;\" x=\"132.2475\" xlink:href=\"#meeff789c52\" y=\"228.14\"/>\r\n      </g>\r\n     </g>\r\n     <g id=\"text_4\">\r\n      <!-- 15 -->\r\n      <g transform=\"translate(125.885 242.738437)scale(0.1 -0.1)\">\r\n       <use xlink:href=\"#DejaVuSans-31\"/>\r\n       <use x=\"63.623047\" xlink:href=\"#DejaVuSans-35\"/>\r\n      </g>\r\n     </g>\r\n    </g>\r\n    <g id=\"xtick_5\">\r\n     <g id=\"line2d_5\">\r\n      <g>\r\n       <use style=\"stroke:#000000;stroke-width:0.8;\" x=\"166.2225\" xlink:href=\"#meeff789c52\" y=\"228.14\"/>\r\n      </g>\r\n     </g>\r\n     <g id=\"text_5\">\r\n      <!-- 20 -->\r\n      <defs>\r\n       <path d=\"M 19.1875 8.296875 \r\nL 53.609375 8.296875 \r\nL 53.609375 0 \r\nL 7.328125 0 \r\nL 7.328125 8.296875 \r\nQ 12.9375 14.109375 22.625 23.890625 \r\nQ 32.328125 33.6875 34.8125 36.53125 \r\nQ 39.546875 41.84375 41.421875 45.53125 \r\nQ 43.3125 49.21875 43.3125 52.78125 \r\nQ 43.3125 58.59375 39.234375 62.25 \r\nQ 35.15625 65.921875 28.609375 65.921875 \r\nQ 23.96875 65.921875 18.8125 64.3125 \r\nQ 13.671875 62.703125 7.8125 59.421875 \r\nL 7.8125 69.390625 \r\nQ 13.765625 71.78125 18.9375 73 \r\nQ 24.125 74.21875 28.421875 74.21875 \r\nQ 39.75 74.21875 46.484375 68.546875 \r\nQ 53.21875 62.890625 53.21875 53.421875 \r\nQ 53.21875 48.921875 51.53125 44.890625 \r\nQ 49.859375 40.875 45.40625 35.40625 \r\nQ 44.1875 33.984375 37.640625 27.21875 \r\nQ 31.109375 20.453125 19.1875 8.296875 \r\nz\r\n\" id=\"DejaVuSans-32\"/>\r\n      </defs>\r\n      <g transform=\"translate(159.86 242.738437)scale(0.1 -0.1)\">\r\n       <use xlink:href=\"#DejaVuSans-32\"/>\r\n       <use x=\"63.623047\" xlink:href=\"#DejaVuSans-30\"/>\r\n      </g>\r\n     </g>\r\n    </g>\r\n    <g id=\"xtick_6\">\r\n     <g id=\"line2d_6\">\r\n      <g>\r\n       <use style=\"stroke:#000000;stroke-width:0.8;\" x=\"200.1975\" xlink:href=\"#meeff789c52\" y=\"228.14\"/>\r\n      </g>\r\n     </g>\r\n     <g id=\"text_6\">\r\n      <!-- 25 -->\r\n      <g transform=\"translate(193.835 242.738437)scale(0.1 -0.1)\">\r\n       <use xlink:href=\"#DejaVuSans-32\"/>\r\n       <use x=\"63.623047\" xlink:href=\"#DejaVuSans-35\"/>\r\n      </g>\r\n     </g>\r\n    </g>\r\n    <g id=\"xtick_7\">\r\n     <g id=\"line2d_7\">\r\n      <g>\r\n       <use style=\"stroke:#000000;stroke-width:0.8;\" x=\"234.1725\" xlink:href=\"#meeff789c52\" y=\"228.14\"/>\r\n      </g>\r\n     </g>\r\n     <g id=\"text_7\">\r\n      <!-- 30 -->\r\n      <defs>\r\n       <path d=\"M 40.578125 39.3125 \r\nQ 47.65625 37.796875 51.625 33 \r\nQ 55.609375 28.21875 55.609375 21.1875 \r\nQ 55.609375 10.40625 48.1875 4.484375 \r\nQ 40.765625 -1.421875 27.09375 -1.421875 \r\nQ 22.515625 -1.421875 17.65625 -0.515625 \r\nQ 12.796875 0.390625 7.625 2.203125 \r\nL 7.625 11.71875 \r\nQ 11.71875 9.328125 16.59375 8.109375 \r\nQ 21.484375 6.890625 26.8125 6.890625 \r\nQ 36.078125 6.890625 40.9375 10.546875 \r\nQ 45.796875 14.203125 45.796875 21.1875 \r\nQ 45.796875 27.640625 41.28125 31.265625 \r\nQ 36.765625 34.90625 28.71875 34.90625 \r\nL 20.21875 34.90625 \r\nL 20.21875 43.015625 \r\nL 29.109375 43.015625 \r\nQ 36.375 43.015625 40.234375 45.921875 \r\nQ 44.09375 48.828125 44.09375 54.296875 \r\nQ 44.09375 59.90625 40.109375 62.90625 \r\nQ 36.140625 65.921875 28.71875 65.921875 \r\nQ 24.65625 65.921875 20.015625 65.03125 \r\nQ 15.375 64.15625 9.8125 62.3125 \r\nL 9.8125 71.09375 \r\nQ 15.4375 72.65625 20.34375 73.4375 \r\nQ 25.25 74.21875 29.59375 74.21875 \r\nQ 40.828125 74.21875 47.359375 69.109375 \r\nQ 53.90625 64.015625 53.90625 55.328125 \r\nQ 53.90625 49.265625 50.4375 45.09375 \r\nQ 46.96875 40.921875 40.578125 39.3125 \r\nz\r\n\" id=\"DejaVuSans-33\"/>\r\n      </defs>\r\n      <g transform=\"translate(227.81 242.738437)scale(0.1 -0.1)\">\r\n       <use xlink:href=\"#DejaVuSans-33\"/>\r\n       <use x=\"63.623047\" xlink:href=\"#DejaVuSans-30\"/>\r\n      </g>\r\n     </g>\r\n    </g>\r\n   </g>\r\n   <g id=\"matplotlib.axis_2\">\r\n    <g id=\"ytick_1\">\r\n     <g id=\"line2d_8\">\r\n      <defs>\r\n       <path d=\"M 0 0 \r\nL -3.5 0 \r\n\" id=\"m91609f79e7\" style=\"stroke:#000000;stroke-width:0.8;\"/>\r\n      </defs>\r\n      <g>\r\n       <use style=\"stroke:#000000;stroke-width:0.8;\" x=\"26.925\" xlink:href=\"#m91609f79e7\" y=\"14.0975\"/>\r\n      </g>\r\n     </g>\r\n     <g id=\"text_8\">\r\n      <!-- 0 -->\r\n      <g transform=\"translate(13.5625 17.896719)scale(0.1 -0.1)\">\r\n       <use xlink:href=\"#DejaVuSans-30\"/>\r\n      </g>\r\n     </g>\r\n    </g>\r\n    <g id=\"ytick_2\">\r\n     <g id=\"line2d_9\">\r\n      <g>\r\n       <use style=\"stroke:#000000;stroke-width:0.8;\" x=\"26.925\" xlink:href=\"#m91609f79e7\" y=\"48.0725\"/>\r\n      </g>\r\n     </g>\r\n     <g id=\"text_9\">\r\n      <!-- 5 -->\r\n      <g transform=\"translate(13.5625 51.871719)scale(0.1 -0.1)\">\r\n       <use xlink:href=\"#DejaVuSans-35\"/>\r\n      </g>\r\n     </g>\r\n    </g>\r\n    <g id=\"ytick_3\">\r\n     <g id=\"line2d_10\">\r\n      <g>\r\n       <use style=\"stroke:#000000;stroke-width:0.8;\" x=\"26.925\" xlink:href=\"#m91609f79e7\" y=\"82.0475\"/>\r\n      </g>\r\n     </g>\r\n     <g id=\"text_10\">\r\n      <!-- 10 -->\r\n      <g transform=\"translate(7.2 85.846719)scale(0.1 -0.1)\">\r\n       <use xlink:href=\"#DejaVuSans-31\"/>\r\n       <use x=\"63.623047\" xlink:href=\"#DejaVuSans-30\"/>\r\n      </g>\r\n     </g>\r\n    </g>\r\n    <g id=\"ytick_4\">\r\n     <g id=\"line2d_11\">\r\n      <g>\r\n       <use style=\"stroke:#000000;stroke-width:0.8;\" x=\"26.925\" xlink:href=\"#m91609f79e7\" y=\"116.0225\"/>\r\n      </g>\r\n     </g>\r\n     <g id=\"text_11\">\r\n      <!-- 15 -->\r\n      <g transform=\"translate(7.2 119.821719)scale(0.1 -0.1)\">\r\n       <use xlink:href=\"#DejaVuSans-31\"/>\r\n       <use x=\"63.623047\" xlink:href=\"#DejaVuSans-35\"/>\r\n      </g>\r\n     </g>\r\n    </g>\r\n    <g id=\"ytick_5\">\r\n     <g id=\"line2d_12\">\r\n      <g>\r\n       <use style=\"stroke:#000000;stroke-width:0.8;\" x=\"26.925\" xlink:href=\"#m91609f79e7\" y=\"149.9975\"/>\r\n      </g>\r\n     </g>\r\n     <g id=\"text_12\">\r\n      <!-- 20 -->\r\n      <g transform=\"translate(7.2 153.796719)scale(0.1 -0.1)\">\r\n       <use xlink:href=\"#DejaVuSans-32\"/>\r\n       <use x=\"63.623047\" xlink:href=\"#DejaVuSans-30\"/>\r\n      </g>\r\n     </g>\r\n    </g>\r\n    <g id=\"ytick_6\">\r\n     <g id=\"line2d_13\">\r\n      <g>\r\n       <use style=\"stroke:#000000;stroke-width:0.8;\" x=\"26.925\" xlink:href=\"#m91609f79e7\" y=\"183.9725\"/>\r\n      </g>\r\n     </g>\r\n     <g id=\"text_13\">\r\n      <!-- 25 -->\r\n      <g transform=\"translate(7.2 187.771719)scale(0.1 -0.1)\">\r\n       <use xlink:href=\"#DejaVuSans-32\"/>\r\n       <use x=\"63.623047\" xlink:href=\"#DejaVuSans-35\"/>\r\n      </g>\r\n     </g>\r\n    </g>\r\n    <g id=\"ytick_7\">\r\n     <g id=\"line2d_14\">\r\n      <g>\r\n       <use style=\"stroke:#000000;stroke-width:0.8;\" x=\"26.925\" xlink:href=\"#m91609f79e7\" y=\"217.9475\"/>\r\n      </g>\r\n     </g>\r\n     <g id=\"text_14\">\r\n      <!-- 30 -->\r\n      <g transform=\"translate(7.2 221.746719)scale(0.1 -0.1)\">\r\n       <use xlink:href=\"#DejaVuSans-33\"/>\r\n       <use x=\"63.623047\" xlink:href=\"#DejaVuSans-30\"/>\r\n      </g>\r\n     </g>\r\n    </g>\r\n   </g>\r\n   <g id=\"patch_3\">\r\n    <path d=\"M 26.925 228.14 \r\nL 26.925 10.7 \r\n\" style=\"fill:none;stroke:#000000;stroke-linecap:square;stroke-linejoin:miter;stroke-width:0.8;\"/>\r\n   </g>\r\n   <g id=\"patch_4\">\r\n    <path d=\"M 244.365 228.14 \r\nL 244.365 10.7 \r\n\" style=\"fill:none;stroke:#000000;stroke-linecap:square;stroke-linejoin:miter;stroke-width:0.8;\"/>\r\n   </g>\r\n   <g id=\"patch_5\">\r\n    <path d=\"M 26.925 228.14 \r\nL 244.365 228.14 \r\n\" style=\"fill:none;stroke:#000000;stroke-linecap:square;stroke-linejoin:miter;stroke-width:0.8;\"/>\r\n   </g>\r\n   <g id=\"patch_6\">\r\n    <path d=\"M 26.925 10.7 \r\nL 244.365 10.7 \r\n\" style=\"fill:none;stroke:#000000;stroke-linecap:square;stroke-linejoin:miter;stroke-width:0.8;\"/>\r\n   </g>\r\n  </g>\r\n </g>\r\n <defs>\r\n  <clipPath id=\"p955dbe7c86\">\r\n   <rect height=\"217.44\" width=\"217.44\" x=\"26.925\" y=\"10.7\"/>\r\n  </clipPath>\r\n </defs>\r\n</svg>\r\n",
      "text/plain": "<matplotlib.figure.Figure at 0x1b0c49233c8>"
     },
     "metadata": {
      "needs_background": "light"
     },
     "output_type": "display_data"
    }
   ],
   "source": [
    "image_arr = data[b'data'][200]\n",
    "image_arr = image_arr.reshape((3, 32, 32))\n",
    "image_arr = image_arr.transpose((1, 2, 0))  #32 32 3\n",
    "\n",
    "import matplotlib.pyplot as plt\n",
    "from matplotlib.pyplot import imshow\n",
    "%matplotlib inline\n",
    "\n",
    "imshow(image_arr)"
   ]
  },
  {
   "cell_type": "code",
   "execution_count": 60,
   "metadata": {},
   "outputs": [
    {
     "name": "stdout",
     "output_type": "stream",
     "text": "(10000, 3072)\n(10000,)\n(2000, 3072)\n(2000,)\n"
    }
   ],
   "source": [
    "import tensorflow as tf\n",
    "\n",
    "def load_data(filename):\n",
    "    \"\"\"read data from data file\"\"\"\n",
    "    with open(filename, 'rb') as f:\n",
    "        data = pickle.load(f, encoding='bytes')\n",
    "        return data[b'data'],data[b'labels']\n",
    "\n",
    "class CifarData:\n",
    "    def __init__(self, filenames, need_shuffle):\n",
    "        all_data = []\n",
    "        all_labels = []\n",
    "        for filename in filenames:\n",
    "            data, labels = load_data(filename)\n",
    "            for item, label in zip(data, labels):\n",
    "                if label in [0, 1]:\n",
    "                    all_data.append(item)\n",
    "                    all_labels.append(label)\n",
    "        self._data = np.vstack(all_data)\n",
    "        self._labels = np.hstack(all_labels)\n",
    "        print(self._data.shape)\n",
    "        print(self._labels.shape)\n",
    "        self._num_examples = self._data.shape[0]\n",
    "        self._need_shuffle = need_shuffle\n",
    "        self._indicator = 0\n",
    "        if self._need_shuffle:\n",
    "            self._shuffle_data()\n",
    "        \n",
    "    def _shuffle_data(self):\n",
    "        p = np.random.permutation(self._num_examples)\n",
    "        self._data = self._data[p]\n",
    "        self._labels = self._labels[p]\n",
    "\n",
    "    def next_batch(self, batch_size):\n",
    "        \"\"\"return batch_size examples as a batch\"\"\"\n",
    "        end_indicator = self._indicator + batch_size\n",
    "        if end_indicator > self._num_examples:\n",
    "            if self._need_shuffle:          \n",
    "                self._shuffle_data()\n",
    "                self._indicator = 0\n",
    "                end_indicator = batch_size\n",
    "            else:\n",
    "                raise Exception(\"have no more examples\")\n",
    "        if end_indicator > self._num_examples:\n",
    "            raise Exception(\"batch size is lager than all example\")\n",
    "        batch_data = self._data[self._indicator: end_indicator]\n",
    "        batch_labels = self._labels[self._indicator: end_indicator]\n",
    "        self._indicator = end_indicator\n",
    "        return batch_data, batch_labels\n",
    "\n",
    "train_filenames = [os.path.join(CIFAR_DIR, \"data_batch_%d\" % i) for i in range(1, 6)]\n",
    "test_filenames = [os.path.join(CIFAR_DIR, \"test_batch\")]\n",
    "\n",
    "\n",
    "test_data = CifarData(test_filenames, True)"
   ]
  },
  {
   "cell_type": "code",
   "execution_count": 40,
   "metadata": {},
   "outputs": [],
   "source": [
    "x = tf.placeholder(tf.float32, [None, 3072])    # None 输入个数不确定\n",
    "# [None]\n",
    "y = tf.placeholder(tf.int64, [None])\n",
    "\n",
    "# (3072, 1)\n",
    "w = tf.get_variable('w', [x.get_shape()[-1], 1], initializer=tf.random_normal_initializer(0, 1))\n",
    "\n",
    "# (1, )\n",
    "b = tf.get_variable('b', [1], initializer=tf.constant_initializer(0.0))\n",
    "\n",
    "# [None, 3072] * [3072, 1] = [None, 1]\n",
    "y_ = tf.matmul(x, w) + b\n",
    "# [None, 1]\n",
    "p_y_1 = tf.nn.sigmoid(y_)  # 得到概率值\n",
    "\n",
    "# [None, 1]\n",
    "y_reshaped = tf.reshape(y, (-1, 1))\n",
    "y_reshaped_float = tf.cast(y_reshaped, tf.float32)\n",
    "\n",
    "loss = tf.reduce_mean(tf.square(y_reshaped_float - p_y_1))\n",
    "\n",
    "# bool\n",
    "predict = p_y_1 > 0.5\n",
    "correct_prediction = tf.equal(tf.cast(predict, tf.int64), y_reshaped)\n",
    "accuracy = tf.reduce_mean(tf.cast(correct_prediction, tf.float64))\n",
    "\n",
    "with tf.name_scope('train_op'):\n",
    "    train_op = tf.train.AdamOptimizer(1e-3).minimize(loss)  # 最小化loss"
   ]
  },
  {
   "cell_type": "code",
   "execution_count": null,
   "metadata": {},
   "outputs": [],
   "source": [
    "init = tf.global_variables_initializer()\n",
    "batch_size = 20\n",
    "train_steps = 1000\n",
    "test_steps = 100\n",
    "\n",
    "with tf.Session() as sess:\n",
    "    for i in range(train_steps):\n",
    "        batch_data, batch_labels = train_data.next_batch(batch_size)\n",
    "        loss_val, acc_val, _ = sess.run([loss, accuracy, train_op], feed_dict={x: batch_data, y: batch_labels})\n",
    "        if i % 500 == 0:\n",
    "            print('[Train] Step：%d, loss: %4.5f, acc: %4.5f' % (i + 1, loss_val, acc_val))\n",
    "        if i % 5000 == 0:\n",
    "            test_data = CifarData(test_filenames, False)\n",
    "            all_test_acc_val = []\n",
    "            for j in range(test_steps):\n",
    "                test_batch_data, test_batch_labels = test_data.next_batch(batch_size)\n",
    "                test_acc_val = sess.run([accuracy, feed_dict={x:test_batch_data,y:test_batch_labels}])\n",
    "            test_acc = np.mean(all_test_acc_val)\n",
    "            print('[Test] Step: %d, acc: %4.5f' % (i+1, test_acc_val))\n",
    "\n",
    "\n",
    "\n",
    "\n",
    "\n",
    "\n",
    "\n",
    "\n",
    "\n",
    "\n",
    "\n",
    "\n",
    "\n",
    "\n",
    "\n",
    "\n",
    "\n",
    "\n",
    "\n",
    "\n",
    "\n"
   ]
  }
 ]
}